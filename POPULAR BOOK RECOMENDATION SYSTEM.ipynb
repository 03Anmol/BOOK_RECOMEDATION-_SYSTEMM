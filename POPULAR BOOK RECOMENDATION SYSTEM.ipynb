{
 "cells": [
  {
   "cell_type": "code",
   "execution_count": null,
   "id": "de6d02b6",
   "metadata": {},
   "outputs": [],
   "source": [
    "import numpy as np\n",
    "import pandas as pd\n",
    "import matplotlib.pyplot as plt\n",
    "import seaborn as sns\n",
    "books = pd.read_csv(\"Books.csv\")\n",
    "ratings = pd.read_csv(\"Ratings.csv\")\n",
    "users = pd.read_csv(\"Users.csv\")\n",
    "books.head()\n"
   ]
  },
  {
   "cell_type": "code",
   "execution_count": null,
   "id": "cd6630bd",
   "metadata": {},
   "outputs": [],
   "source": [
    "ratings.head()\n"
   ]
  },
  {
   "cell_type": "code",
   "execution_count": null,
   "id": "03f8f397",
   "metadata": {},
   "outputs": [],
   "source": [
    "users.head()"
   ]
  },
  {
   "cell_type": "code",
   "execution_count": null,
   "id": "dd19fb79",
   "metadata": {},
   "outputs": [],
   "source": [
    "books.shape"
   ]
  },
  {
   "cell_type": "code",
   "execution_count": null,
   "id": "32d836a6",
   "metadata": {},
   "outputs": [],
   "source": [
    "ratings.shape"
   ]
  },
  {
   "cell_type": "code",
   "execution_count": null,
   "id": "ad087db5",
   "metadata": {},
   "outputs": [],
   "source": [
    "users.shape"
   ]
  },
  {
   "cell_type": "code",
   "execution_count": null,
   "id": "cac9cc5a",
   "metadata": {},
   "outputs": [],
   "source": [
    "books.isnull().sum()"
   ]
  },
  {
   "cell_type": "code",
   "execution_count": null,
   "id": "1cfb0531",
   "metadata": {},
   "outputs": [],
   "source": [
    "ratings.isnull().sum()"
   ]
  },
  {
   "cell_type": "code",
   "execution_count": null,
   "id": "a1f5060a",
   "metadata": {},
   "outputs": [],
   "source": [
    "users.isnull().sum()"
   ]
  },
  {
   "cell_type": "code",
   "execution_count": null,
   "id": "e83e68f8",
   "metadata": {},
   "outputs": [],
   "source": [
    "books.isnull().sum()"
   ]
  },
  {
   "cell_type": "code",
   "execution_count": null,
   "id": "3c0063de",
   "metadata": {},
   "outputs": [],
   "source": [
    "ratings.isnull().sum()"
   ]
  },
  {
   "cell_type": "code",
   "execution_count": null,
   "id": "76a7b5ca",
   "metadata": {},
   "outputs": [],
   "source": [
    "users.isnull().sum()"
   ]
  },
  {
   "cell_type": "code",
   "execution_count": null,
   "id": "40fc333c",
   "metadata": {},
   "outputs": [],
   "source": [
    "books.duplicated().sum()"
   ]
  },
  {
   "cell_type": "code",
   "execution_count": null,
   "id": "30b50041",
   "metadata": {},
   "outputs": [],
   "source": [
    "ratings.duplicated().sum()"
   ]
  },
  {
   "cell_type": "code",
   "execution_count": null,
   "id": "25d0ac81",
   "metadata": {},
   "outputs": [],
   "source": [
    "users.duplicated().sum()"
   ]
  },
  {
   "cell_type": "code",
   "execution_count": null,
   "id": "9730db59",
   "metadata": {},
   "outputs": [],
   "source": [
    "books.describe()"
   ]
  },
  {
   "cell_type": "code",
   "execution_count": null,
   "id": "fc45c7a6",
   "metadata": {},
   "outputs": [],
   "source": [
    "ratings.describe()"
   ]
  },
  {
   "cell_type": "code",
   "execution_count": null,
   "id": "222c38dd",
   "metadata": {},
   "outputs": [],
   "source": [
    "users.describe()"
   ]
  },
  {
   "cell_type": "code",
   "execution_count": null,
   "id": "e615c0a4",
   "metadata": {},
   "outputs": [],
   "source": [
    "ratings_with_name=ratings.merge(books,on='ISBN')"
   ]
  },
  {
   "cell_type": "code",
   "execution_count": null,
   "id": "8b8391d7",
   "metadata": {},
   "outputs": [],
   "source": [
    "num_rating_df=ratings_with_name.groupby('Book-Title').count()['Book-Rating'].reset_index()\n",
    "num_rating_df.rename(columns={'Book-Rating':'num-ratings'},inplace=True)\n",
    "num_rating_df"
   ]
  },
  {
   "cell_type": "code",
   "execution_count": null,
   "id": "28fc5670",
   "metadata": {},
   "outputs": [],
   "source": [
    "avg_rating_df=ratings_with_name.groupby('Book-Title').count()['Book-Rating'].reset_index()\n",
    "avg_rating_df.rename(columns={'Book-Rating':'avg_ratings'},inplace=True)\n",
    "avg_rating_df"
   ]
  },
  {
   "cell_type": "code",
   "execution_count": null,
   "id": "059137c9",
   "metadata": {},
   "outputs": [],
   "source": [
    "popular_df=num_rating_df.merge(avg_rating_df,on='Book-Title')\n",
    "popular_df"
   ]
  },
  {
   "cell_type": "code",
   "execution_count": null,
   "id": "de2efab8",
   "metadata": {},
   "outputs": [],
   "source": [
    "popular_df=popular_df[popular_df['num-ratings']>=250].sort_values('avg_ratings',ascending=False).head(50)"
   ]
  },
  {
   "cell_type": "code",
   "execution_count": null,
   "id": "fffb4f25",
   "metadata": {},
   "outputs": [],
   "source": [
    "popular_df=popular_df.merge(books,on='Book-Title').drop_duplicates('Book-Title')[['Book-Title','Book-Author','Image-URL-M','num-ratings','avg_ratings']]"
   ]
  },
  {
   "cell_type": "code",
   "execution_count": null,
   "id": "629b498d",
   "metadata": {},
   "outputs": [],
   "source": [
    "popular_df['Image-URL-M'][0]"
   ]
  },
  {
   "cell_type": "code",
   "execution_count": null,
   "id": "72084678",
   "metadata": {},
   "outputs": [],
   "source": [
    "x=ratings_with_name.groupby('User-ID').count()['Book-Rating']>200\n",
    "knowledge_user=x[x].index"
   ]
  },
  {
   "cell_type": "code",
   "execution_count": null,
   "id": "43606c2c",
   "metadata": {},
   "outputs": [],
   "source": [
    "filtered_rating=ratings_with_name[ratings_with_name['User-ID'].isin(knowledge_user)]"
   ]
  },
  {
   "cell_type": "code",
   "execution_count": null,
   "id": "3e1e8fba",
   "metadata": {},
   "outputs": [],
   "source": [
    "final_ratings=filtered_rating[filtered_rating['Book-Title'].isin(famous_books)]"
   ]
  },
  {
   "cell_type": "code",
   "execution_count": null,
   "id": "207ba146",
   "metadata": {},
   "outputs": [],
   "source": [
    "pt=final_ratings.pivot_table(index='Book-Title',columns='User-ID',values='Book-Rating')"
   ]
  },
  {
   "cell_type": "code",
   "execution_count": null,
   "id": "0e6c2c1d",
   "metadata": {},
   "outputs": [],
   "source": [
    "pt.fillna(0,inplace=True)"
   ]
  },
  {
   "cell_type": "code",
   "execution_count": null,
   "id": "0c5ecfdb",
   "metadata": {},
   "outputs": [],
   "source": [
    "pt"
   ]
  },
  {
   "cell_type": "code",
   "execution_count": null,
   "id": "4085ae52",
   "metadata": {},
   "outputs": [],
   "source": [
    "from sklearn.metrics.pairwise import cosine_similarity"
   ]
  },
  {
   "cell_type": "code",
   "execution_count": null,
   "id": "3e929bd5",
   "metadata": {},
   "outputs": [],
   "source": [
    "similarity_scores=cosine_similarity(pt)"
   ]
  },
  {
   "cell_type": "code",
   "execution_count": null,
   "id": "f60f4acd",
   "metadata": {},
   "outputs": [],
   "source": [
    "def recommend(book_name):\n",
    "    #index fetch\n",
    "    index=np.where(pt.index == book_name)[0][0]\n",
    "    similar_items=sorted(list(enumerate(similarity_scores[index])),key=lambda x:x[1],reverse=True)[1:6]\n",
    "    \n",
    "    for i in similar_items:\n",
    "        print(pt.index[i[0]])"
   ]
  },
  {
   "cell_type": "code",
   "execution_count": null,
   "id": "bd3e3f56",
   "metadata": {},
   "outputs": [],
   "source": [
    "recommend('Message in a Bottle')"
   ]
  },
  {
   "cell_type": "code",
   "execution_count": null,
   "id": "57df9b83",
   "metadata": {},
   "outputs": [],
   "source": [
    "pt.index[545]"
   ]
  }
 ],
 "metadata": {
  "kernelspec": {
   "display_name": "Python 3 (ipykernel)",
   "language": "python",
   "name": "python3"
  },
  "language_info": {
   "codemirror_mode": {
    "name": "ipython",
    "version": 3
   },
   "file_extension": ".py",
   "mimetype": "text/x-python",
   "name": "python",
   "nbconvert_exporter": "python",
   "pygments_lexer": "ipython3",
   "version": "3.10.4"
  }
 },
 "nbformat": 4,
 "nbformat_minor": 5
}
